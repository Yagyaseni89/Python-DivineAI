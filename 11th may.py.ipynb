{
 "cells": [
  {
   "cell_type": "code",
   "execution_count": 7,
   "id": "c043aef8",
   "metadata": {},
   "outputs": [
    {
     "name": "stdout",
     "output_type": "stream",
     "text": [
      "enter a number: 67.7\n",
      "enter a number: 54.3\n",
      "enter a number: 34.8\n",
      "enter a number: done\n",
      "average: 52.26666666666667\n"
     ]
    }
   ],
   "source": [
    "total=0\n",
    "count=0\n",
    "while True:\n",
    "    inp=input('enter a number: ')\n",
    "    if inp=='done':\n",
    "        break\n",
    "    value=float(inp)\n",
    "    total=total+value\n",
    "    count=count+1\n",
    "average=total/count\n",
    "print('average:',average)"
   ]
  },
  {
   "cell_type": "code",
   "execution_count": 21,
   "id": "4290d7ac",
   "metadata": {},
   "outputs": [
    {
     "name": "stdout",
     "output_type": "stream",
     "text": [
      "ii\n"
     ]
    }
   ],
   "source": [
    "a={(1,2,3):1, 2:[1,5,'hello',(3,5,'hiikh')],'a':3,5:4}\n",
    "print(a[2][3][2][1:3])"
   ]
  },
  {
   "cell_type": "code",
   "execution_count": null,
   "id": "0c0ed107",
   "metadata": {},
   "outputs": [],
   "source": []
  },
  {
   "cell_type": "code",
   "execution_count": null,
   "id": "e54c6512",
   "metadata": {},
   "outputs": [],
   "source": []
  }
 ],
 "metadata": {
  "kernelspec": {
   "display_name": "Python 3 (ipykernel)",
   "language": "python",
   "name": "python3"
  },
  "language_info": {
   "codemirror_mode": {
    "name": "ipython",
    "version": 3
   },
   "file_extension": ".py",
   "mimetype": "text/x-python",
   "name": "python",
   "nbconvert_exporter": "python",
   "pygments_lexer": "ipython3",
   "version": "3.9.12"
  }
 },
 "nbformat": 4,
 "nbformat_minor": 5
}
