{
 "cells": [
  {
   "cell_type": "code",
   "execution_count": 1,
   "id": "ec171893",
   "metadata": {
    "scrolled": true
   },
   "outputs": [
    {
     "name": "stdout",
     "output_type": "stream",
     "text": [
      "b is greater than a\n"
     ]
    }
   ],
   "source": [
    "a=\"hello\"\n",
    "b=\"helllo\"\n",
    "if b<a:\n",
    "    print(\"b is greater than a\")\n",
    "else:\n",
    "    print(\"b is smaller than a\")"
   ]
  },
  {
   "cell_type": "code",
   "execution_count": 2,
   "id": "039c3830",
   "metadata": {
    "scrolled": true
   },
   "outputs": [
    {
     "name": "stdout",
     "output_type": "stream",
     "text": [
      "spam\n",
      "[]\n"
     ]
    }
   ],
   "source": [
    "a = ['spam', 'eggs', 100, 1234, 2*2]\n",
    "print(a[0])\n",
    "print(a[1:-4])"
   ]
  },
  {
   "cell_type": "code",
   "execution_count": 5,
   "id": "1508a79e",
   "metadata": {},
   "outputs": [],
   "source": [
    "a[2] = a[2] + 23"
   ]
  },
  {
   "cell_type": "code",
   "execution_count": 6,
   "id": "ef9c94bf",
   "metadata": {},
   "outputs": [
    {
     "name": "stdout",
     "output_type": "stream",
     "text": [
      "Happy New Year: Joseph\n",
      "Happy New Year: Glenn\n",
      "Happy New Year: Sally\n"
     ]
    }
   ],
   "source": [
    "friends = ['Joseph', 'Glenn', 'Sally']\n",
    "for friend in friends :\n",
    "    print('Happy New Year:',  friend)"
   ]
  },
  {
   "cell_type": "code",
   "execution_count": 7,
   "id": "61dc34af",
   "metadata": {},
   "outputs": [
    {
     "name": "stdout",
     "output_type": "stream",
     "text": [
      "Happy New Year: Joseph\n",
      "Happy New Year: Glenn\n",
      "Happy New Year: Sally\n"
     ]
    }
   ],
   "source": [
    "for i in range(len(friends)) :\n",
    "    friend = friends[i]\n",
    "    print('Happy New Year:',  friend)"
   ]
  },
  {
   "cell_type": "code",
   "execution_count": 8,
   "id": "470f40c1",
   "metadata": {},
   "outputs": [
    {
     "name": "stdout",
     "output_type": "stream",
     "text": [
      "['Sally', 'Joseph', 'Glenn']\n",
      "Joseph\n"
     ]
    }
   ],
   "source": [
    "friends.sort(reverse=True)\n",
    "print(friends)\n",
    "print(friends[1])"
   ]
  },
  {
   "cell_type": "code",
   "execution_count": 9,
   "id": "8c651d98",
   "metadata": {},
   "outputs": [
    {
     "name": "stdout",
     "output_type": "stream",
     "text": [
      "['Sally', 'Joseph', 'Glenn']\n",
      "Joseph\n"
     ]
    }
   ],
   "source": [
    "friends.sort(reverse=True)\n",
    "print(friends)\n",
    "print(friends[1])"
   ]
  },
  {
   "cell_type": "code",
   "execution_count": null,
   "id": "fa8c0ead",
   "metadata": {},
   "outputs": [],
   "source": []
  }
 ],
 "metadata": {
  "kernelspec": {
   "display_name": "Python 3 (ipykernel)",
   "language": "python",
   "name": "python3"
  },
  "language_info": {
   "codemirror_mode": {
    "name": "ipython",
    "version": 3
   },
   "file_extension": ".py",
   "mimetype": "text/x-python",
   "name": "python",
   "nbconvert_exporter": "python",
   "pygments_lexer": "ipython3",
   "version": "3.9.12"
  }
 },
 "nbformat": 4,
 "nbformat_minor": 5
}
