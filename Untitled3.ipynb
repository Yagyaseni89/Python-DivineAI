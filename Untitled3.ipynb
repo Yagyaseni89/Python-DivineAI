{
 "cells": [
  {
   "cell_type": "code",
   "execution_count": 1,
   "id": "eb3447a3",
   "metadata": {},
   "outputs": [
    {
     "name": "stdout",
     "output_type": "stream",
     "text": [
      "True\n",
      "False\n",
      "False\n",
      "True\n"
     ]
    }
   ],
   "source": [
    "sub='a'in 'ram'\n",
    "print(sub)\n",
    "sub='a'not in 'ram'\n",
    "print(sub)\n",
    "sub='t'in 'ram'\n",
    "print(sub)\n",
    "sub='r'in 'ram'\n",
    "print(sub)"
   ]
  },
  {
   "cell_type": "code",
   "execution_count": null,
   "id": "f62b7ca1",
   "metadata": {},
   "outputs": [],
   "source": []
  }
 ],
 "metadata": {
  "kernelspec": {
   "display_name": "Python 3 (ipykernel)",
   "language": "python",
   "name": "python3"
  },
  "language_info": {
   "codemirror_mode": {
    "name": "ipython",
    "version": 3
   },
   "file_extension": ".py",
   "mimetype": "text/x-python",
   "name": "python",
   "nbconvert_exporter": "python",
   "pygments_lexer": "ipython3",
   "version": "3.9.12"
  }
 },
 "nbformat": 4,
 "nbformat_minor": 5
}
